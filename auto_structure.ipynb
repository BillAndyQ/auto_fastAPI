{
 "cells": [
  {
   "cell_type": "code",
   "execution_count": 522,
   "metadata": {},
   "outputs": [
    {
     "name": "stdout",
     "output_type": "stream",
     "text": [
      "Clave: productos\n",
      "Clave: categorias\n",
      "Clave: almacenes\n"
     ]
    }
   ],
   "source": [
    "import json\n",
    "\n",
    "modulos = []\n",
    "\n",
    "# Cargar el archivo JSON\n",
    "with open('structure.json', 'r') as file:\n",
    "    data = json.load(file)\n",
    "\n",
    "# Recorrer todas las claves y valores del diccionario\n",
    "for key, value in data['modulos'].items():\n",
    "    modulos.append(key)\n",
    "    print(f\"Clave: {key}\")"
   ]
  },
  {
   "cell_type": "code",
   "execution_count": 523,
   "metadata": {},
   "outputs": [
    {
     "data": {
      "text/plain": [
       "['productos', 'categorias', 'almacenes']"
      ]
     },
     "execution_count": 523,
     "metadata": {},
     "output_type": "execute_result"
    }
   ],
   "source": [
    "modulos"
   ]
  },
  {
   "cell_type": "code",
   "execution_count": 524,
   "metadata": {},
   "outputs": [],
   "source": [
    "methods = [\"get\",\"post\",\"put\",\"delete\"]"
   ]
  },
  {
   "cell_type": "code",
   "execution_count": 525,
   "metadata": {},
   "outputs": [],
   "source": [
    "def gen_routes(value, modulo):\n",
    "# Generación de rutas GET PUT DELETE POST\n",
    "    if value.get(\"routes\") == \"auto\":  # Si la clave 'routes' tiene el valor \"auto\"\n",
    "        # Generación de routes\n",
    "        with open(f\"src/{modulo}/routes.py\", 'w', encoding='utf-8') as file:\n",
    "            header = f\"\"\" \n",
    "            from fastapi import APIRouter, Depends\n",
    "            from .models import {modulo.capitalize()}\n",
    "            from src.connect_db import SessionLocal\n",
    "            from .schemas import {modulo.capitalize()}Base\n",
    "            from sqlalchemy.orm import Session\n",
    "            from src.auth.auth import get_current_user\n",
    "            from sqlalchemy.inspection import inspect\n",
    "            from typing import List, Dict\n",
    "            router = APIRouter()\n",
    "            \n",
    "            # Dependencia para obtener la sesión de la base de datos\n",
    "            def get_db():\n",
    "                db = SessionLocal()\n",
    "                try:\n",
    "                    yield db\n",
    "                finally:\n",
    "                    db.close()\n",
    "            \n",
    "            \"\"\"\n",
    "            content = header \n",
    "\n",
    "            for method in methods:\n",
    "                if(method == \"get\"):\n",
    "                    path_route = f\"\"\"\n",
    "            @router.{method}(\"/\", response_model=list[{modulo.capitalize()}Base])\"\"\"\n",
    "                    content_route = f\"\"\"\n",
    "            def {method}_{modulo}(db: Session = Depends(get_db), current_user: dict = Depends(get_current_user)):\n",
    "                {modulo} = db.query({modulo.capitalize()}).all()\n",
    "                return {modulo}\n",
    "\n",
    "            \"\"\"\n",
    "                    content += \"\\n\".join([line.lstrip() for line in path_route.splitlines()]) + content_route\n",
    "                    \n",
    "                if(method == \"post\"):\n",
    "\n",
    "                    path_route = f\"\"\"\n",
    "            @router.{method}(\"/\", response_model={modulo.capitalize()}Base)\"\"\"\n",
    "                    content_route = f\"\"\"\n",
    "            def {method}_{modulo}({modulo}: {modulo.capitalize()}Base, db: Session = Depends(get_db), current_user: dict = Depends(get_current_user)):\n",
    "                {modulo} = {modulo.capitalize()}(\n",
    "                    {\n",
    "                        \", \".join([f\"{keys.split(':')[0]}={modulo}.{keys.split(':')[0]}\" for keys in value[\"model\"]])\n",
    "                    }\n",
    "                    )\n",
    "                db.add({modulo})\n",
    "                db.commit()\n",
    "                db.refresh({modulo})\n",
    "                return {modulo}\n",
    "                    \"\"\"\n",
    "                    content += \"\\n\".join([line.lstrip() for line in path_route.splitlines()]) + content_route\n",
    "            # Quitar una sola tabulación del principio de cada línea\n",
    "            content = \"\\n\".join([line[12:] if line.startswith(' ') else line for line in content.splitlines()])\n",
    "            file.write(content)\n",
    "    else:\n",
    "         # Generación de routes\n",
    "        with open(f\"src/{key}/routes.py\", 'w', encoding='utf-8') as file:\n",
    "            content = \"\"\" \n",
    "            from fastapi import APIRouter, Depends, HTTPException, status\n",
    "            from sqlalchemy.orm import Session\n",
    "            router = APIRouter()\n",
    "\n",
    "            @router.get(\"/\")\n",
    "            def read_root():\n",
    "                return {\"message\": \"Welcome to FastAPI!\"}\n",
    "            \"\"\"\n",
    "            # Quitar una sola tabulación del principio de cada línea\n",
    "            content = \"\\n\".join([line[12:] if line.startswith(' ') else line for line in content.splitlines()])\n",
    "            file.write(content)\n",
    "      "
   ]
  },
  {
   "cell_type": "code",
   "execution_count": 526,
   "metadata": {},
   "outputs": [],
   "source": [
    "import os\n",
    "def generate_services(value, modulo):\n",
    "    # Generación de carpetas de los modulos\n",
    "    directorio = f\"src/{modulo}/services/__init__.py\"\n",
    "    os.makedirs(directorio, exist_ok=True)\n",
    "    \n",
    "    # Generación services\n",
    "    if value.get(\"routes\") == \"auto\":  # Si la clave 'routes' tiene el valor \"auto\"\n",
    "        with open(f\"src/{modulo}/services.py\", 'w', encoding='utf-8') as file:\n",
    "            header = \"\"\" \n",
    "\n",
    "            \"\"\"\n",
    "\n",
    "            content = header\n",
    "\n",
    "            # Quitar una sola tabulación del principio de cada línea\n",
    "            content = \"\\n\".join([line[12:] if line.startswith(' ') else line for line in content.splitlines()])\n",
    "            file.write(content)"
   ]
  },
  {
   "cell_type": "code",
   "execution_count": 527,
   "metadata": {},
   "outputs": [],
   "source": [
    "def generate_models(value, modulo):\n",
    "    if value.get(\"model\")!=None:\n",
    "        print(value.get(\"model\"))\n",
    "        with open(f\"src/{key}/models.py\", 'w', encoding='utf-8') as file:\n",
    "                content = f\"\"\"\n",
    "            from sqlalchemy import Column, Integer, String, Float\n",
    "            from src.database import Base\n",
    "\n",
    "            class {modulo.capitalize()}(Base):\n",
    "                __tablename__ = '{modulo}'\n",
    "                id = Column(Integer, primary_key=True, index=True)\"\"\"\n",
    "                # Quitar una sola tabulación del principio de cada línea\n",
    "                content = \"\\n\".join([line[12:] if line.startswith(' ') else line for line in content.splitlines()])\n",
    "                file.write(content)\n",
    "\n",
    "        # Generación models\n",
    "        for modelo in value.get(\"model\", []):\n",
    "            model_name, tipo = modelo.split(\":\")\n",
    "            print(f\"Nombre: {model_name}, Tipo: {tipo}\")\n",
    "\n",
    "            with open(f\"src/{key}/models.py\", 'a', encoding='utf-8') as file:\n",
    "                if(tipo == \"str\"):\n",
    "                    content = f\"\"\"\n",
    "                {model_name} = Column(String)\"\"\"\n",
    "                elif(tipo == \"int\"):\n",
    "                    content = f\"\"\"\n",
    "                {model_name} = Column(Integer)\"\"\"\n",
    "                elif(tipo == \"float\"):\n",
    "                    content = f\"\"\"\n",
    "                {model_name} = Column(Float)\"\"\"\n",
    "                # Quitar una sola tabulación del principio de cada línea\n",
    "                content = \"\\n\".join([line[12:] if line.startswith(' ') else line for line in content.splitlines()])\n",
    "                file.write(content)\n"
   ]
  },
  {
   "cell_type": "code",
   "execution_count": 528,
   "metadata": {},
   "outputs": [],
   "source": [
    "def generate_schemas(value, modulo):\n",
    "    # Generación de schemas\n",
    "    with open(f\"src/{modulo}/schemas.py\", 'w', encoding='utf-8') as file:\n",
    "        content = f\"\"\" \n",
    "            from pydantic import BaseModel\n",
    "            from typing import List\n",
    "\n",
    "            class {modulo.capitalize()}Base(BaseModel):\n",
    "        \"\"\"\n",
    "        for modelo in value.get(\"model\", []):\n",
    "            model_name, tipo = modelo.split(\":\")\n",
    "            content = content + f\"\"\"\n",
    "                {model_name}: {tipo}\"\"\"\n",
    "        \n",
    "\n",
    "        content = \"\\n\".join([line[12:] if line.startswith(' ') else line for line in content.splitlines()])\n",
    "        file.write(content)\n",
    "        "
   ]
  },
  {
   "cell_type": "code",
   "execution_count": 529,
   "metadata": {},
   "outputs": [
    {
     "name": "stdout",
     "output_type": "stream",
     "text": [
      "['name:str', 'stock:int', 'descripcion:str', 'price:float']\n",
      "Nombre: name, Tipo: str\n",
      "Nombre: stock, Tipo: int\n",
      "Nombre: descripcion, Tipo: str\n",
      "Nombre: price, Tipo: float\n",
      "['name:str']\n",
      "Nombre: name, Tipo: str\n",
      "['name:str', 'stock:int', 'descripcion:str', 'price:float']\n",
      "Nombre: name, Tipo: str\n",
      "Nombre: stock, Tipo: int\n",
      "Nombre: descripcion, Tipo: str\n",
      "Nombre: price, Tipo: float\n"
     ]
    }
   ],
   "source": [
    "import os\n",
    "from pathlib import Path\n",
    "\n",
    "# create src/__init__.py\n",
    "src_init = Path('src/__init__.py')\n",
    "src_init.touch()\n",
    "\n",
    "for key, value in data['modulos'].items():\n",
    "    modulo = key\n",
    "    # Generación de carpetas de los modulos\n",
    "    directorio = f\"src/{key}\"\n",
    "    os.makedirs(directorio, exist_ok=True)\n",
    "\n",
    "    # Generación de init de modulos\n",
    "    file_init = Path(f\"src/{key}/__init__.py\")\n",
    "    file_init.touch()\n",
    "    os.makedirs(directorio, exist_ok=True)\n",
    "\n",
    "    # Generación de rutas GET PUT DELETE POST\n",
    "    gen_routes(value, modulo)\n",
    "\n",
    "    # Generación models\n",
    "    generate_models(value, modulo)\n",
    "\n",
    "    # Generación schemas\n",
    "    generate_schemas(value, modulo)\n",
    "    \n",
    "    # Generación services\n",
    "    generate_services(value, modulo)\n",
    "    \n",
    "\n"
   ]
  }
 ],
 "metadata": {
  "kernelspec": {
   "display_name": "venv",
   "language": "python",
   "name": "python3"
  },
  "language_info": {
   "codemirror_mode": {
    "name": "ipython",
    "version": 3
   },
   "file_extension": ".py",
   "mimetype": "text/x-python",
   "name": "python",
   "nbconvert_exporter": "python",
   "pygments_lexer": "ipython3",
   "version": "3.10.0"
  }
 },
 "nbformat": 4,
 "nbformat_minor": 2
}
